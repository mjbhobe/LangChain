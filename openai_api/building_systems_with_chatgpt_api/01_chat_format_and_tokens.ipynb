{
 "cells": [
  {
   "cell_type": "markdown",
   "metadata": {},
   "source": [
    "## Large Language Models, the Chat Format and Tokens\n",
    "##### Setup\n",
    "Load the API key and relevant Python libaries."
   ]
  },
  {
   "cell_type": "code",
   "execution_count": 17,
   "metadata": {},
   "outputs": [],
   "source": [
    "#!pip install openai\n",
    "#!pip install tiktoken\n",
    "#!pip install dotenv"
   ]
  },
  {
   "cell_type": "code",
   "execution_count": 1,
   "metadata": {},
   "outputs": [],
   "source": [
    "import os\n",
    "import openai\n",
    "import tiktoken\n",
    "from dotenv import load_dotenv, find_dotenv\n",
    "\n",
    "_ = load_dotenv(find_dotenv())  # read local .env file\n",
    "\n",
    "openai.api_key = os.environ[\"OPENAI_API_KEY\"]"
   ]
  },
  {
   "cell_type": "markdown",
   "metadata": {},
   "source": [
    "**Helper function**"
   ]
  },
  {
   "cell_type": "code",
   "execution_count": 12,
   "metadata": {},
   "outputs": [],
   "source": [
    "client = openai.OpenAI(api_key=os.environ[\"OPENAI_API_KEY\"])\n",
    "\n",
    "\n",
    "def get_completion(prompt, model=\"gpt-3.5-turbo\"):\n",
    "    messages = [{\"role\": \"user\", \"content\": prompt}]\n",
    "    # response = openai.ChatCompletion.create(\n",
    "    response = openai.chat.completions.create(\n",
    "        model=model,\n",
    "        messages=messages,\n",
    "        temperature=0,\n",
    "    )\n",
    "    return response.choices[0].message.content"
   ]
  },
  {
   "cell_type": "markdown",
   "metadata": {},
   "source": [
    "##### Prompt the model and get completion"
   ]
  },
  {
   "cell_type": "code",
   "execution_count": 13,
   "metadata": {},
   "outputs": [
    {
     "name": "stdout",
     "output_type": "stream",
     "text": [
      "The capital of France is Paris.\n"
     ]
    }
   ],
   "source": [
    "response = get_completion(\"What is the capital of France?\")\n",
    "print(response)"
   ]
  },
  {
   "cell_type": "markdown",
   "metadata": {},
   "source": [
    "##### Tokens"
   ]
  },
  {
   "cell_type": "code",
   "execution_count": 14,
   "metadata": {},
   "outputs": [
    {
     "name": "stdout",
     "output_type": "stream",
     "text": [
      "pilpolol\n"
     ]
    }
   ],
   "source": [
    "response = get_completion(\"Take the letters in lollipop and reverse them\")\n",
    "print(response)"
   ]
  },
  {
   "cell_type": "code",
   "execution_count": 15,
   "metadata": {},
   "outputs": [
    {
     "name": "stdout",
     "output_type": "stream",
     "text": [
      "p-o-p-i-l-l-o-l\n"
     ]
    }
   ],
   "source": [
    "# that was incorrect. What about this?\n",
    "response = get_completion(\n",
    "    \"\"\"Take the letters in \\\n",
    "l-o-l-l-i-p-o-p and reverse them\"\"\"\n",
    ")\n",
    "print(response)"
   ]
  },
  {
   "cell_type": "markdown",
   "metadata": {},
   "source": [
    "##### Helper function (chat format)¶\n",
    "Here's the helper function we'll use in the following cells"
   ]
  },
  {
   "cell_type": "code",
   "execution_count": 16,
   "metadata": {},
   "outputs": [],
   "source": [
    "def get_completion_from_messages(\n",
    "    messages,\n",
    "    model=\"gpt-3.5-turbo\",\n",
    "    temperature=0,\n",
    "    max_tokens=500,\n",
    "):\n",
    "    response = openai.chat.completions.create(  # ChatCompletion.create(\n",
    "        model=model,\n",
    "        messages=messages,\n",
    "        temperature=temperature,  # this is the degree of randomness of the model's output\n",
    "        max_tokens=max_tokens,  # the maximum number of tokens the model can ouptut\n",
    "    )\n",
    "    return response.choices[0].message.content  # [\"content\"]"
   ]
  },
  {
   "cell_type": "code",
   "execution_count": 17,
   "metadata": {},
   "outputs": [
    {
     "name": "stdout",
     "output_type": "stream",
     "text": [
      "Oh happy carrot, so joyful and bright,\n",
      "Grown in the garden, a pure delight.\n",
      "With a leafy green top and orange so cheery,\n",
      "You make us all smile, oh so clearly!\n",
      "Crunchy and sweet, you make a tasty snack,\n",
      "Oh happy carrot, we'll never look back.\n"
     ]
    }
   ],
   "source": [
    "messages = [\n",
    "    {\n",
    "        \"role\": \"system\",\n",
    "        \"content\": \"\"\"You are an assistant who responds in the style of Dr Seuss.\"\"\",\n",
    "    },\n",
    "    {\n",
    "        \"role\": \"user\",\n",
    "        \"content\": \"\"\"write me a very short poem about a happy carrot\"\"\",\n",
    "    },\n",
    "]\n",
    "response = get_completion_from_messages(messages, temperature=1)\n",
    "print(response)"
   ]
  },
  {
   "cell_type": "code",
   "execution_count": 18,
   "metadata": {},
   "outputs": [
    {
     "name": "stdout",
     "output_type": "stream",
     "text": [
      "Once there was a cheerful carrot named Oliver who made everyone smile with his bright orange glow.\n"
     ]
    }
   ],
   "source": [
    "# length\n",
    "messages = [\n",
    "    {\"role\": \"system\", \"content\": \"All your responses must be one sentence long.\"},\n",
    "    {\"role\": \"user\", \"content\": \"write me a story about a happy carrot\"},\n",
    "]\n",
    "response = get_completion_from_messages(messages, temperature=1)\n",
    "print(response)"
   ]
  },
  {
   "cell_type": "code",
   "execution_count": 19,
   "metadata": {},
   "outputs": [
    {
     "name": "stdout",
     "output_type": "stream",
     "text": [
      "In a garden so bright, was a carrot so right, always grinning with all its might.\n"
     ]
    }
   ],
   "source": [
    "# combined\n",
    "messages = [\n",
    "    {\n",
    "        \"role\": \"system\",\n",
    "        \"content\": \"\"\"You are an assistant who responds in the style of Dr Seuss. \\\n",
    "All your responses must be one sentence long.\"\"\",\n",
    "    },\n",
    "    {\"role\": \"user\", \"content\": \"\"\"write me a story about a happy carrot\"\"\"},\n",
    "]\n",
    "response = get_completion_from_messages(messages, temperature=1)\n",
    "print(response)"
   ]
  },
  {
   "cell_type": "code",
   "execution_count": 30,
   "metadata": {},
   "outputs": [],
   "source": [
    "def get_completion_and_token_count(\n",
    "    messages,\n",
    "    model=\"gpt-3.5-turbo\",\n",
    "    temperature=0,\n",
    "    max_tokens=500,\n",
    "):\n",
    "    response = openai.chat.completions.create(  # ChatCompletion.create(\n",
    "        model=model,\n",
    "        messages=messages,\n",
    "        temperature=temperature,\n",
    "        max_tokens=max_tokens,\n",
    "    )\n",
    "\n",
    "    content = response.choices[0].message.content  # [\"content\"]\n",
    "\n",
    "    # token_dict = {\n",
    "    #     \"prompt_tokens\": response[\"usage\"][\"prompt_tokens\"],\n",
    "    #     \"completion_tokens\": response[\"usage\"][\"completion_tokens\"],\n",
    "    #     \"total_tokens\": response[\"usage\"][\"total_tokens\"],\n",
    "    # }\n",
    "    token_dict = {\n",
    "        \"completion_tokens\": response.usage.completion_tokens,\n",
    "        \"prompt_tokens\": response.usage.prompt_tokens,\n",
    "        \"total_tokens\": response.usage.total_tokens,\n",
    "    }\n",
    "\n",
    "    return response, content, token_dict"
   ]
  },
  {
   "cell_type": "code",
   "execution_count": 31,
   "metadata": {},
   "outputs": [
    {
     "name": "stdout",
     "output_type": "stream",
     "text": [
      "Oh, the happy carrot, so bright and so orange,\n",
      "In the garden it grows, a joyful storage.\n",
      "With a leafy green top and a crunchy bite,\n",
      "It brings smiles to all, such a delightful sight!\n",
      "{'completion_tokens': 44, 'prompt_tokens': 36, 'total_tokens': 80}\n"
     ]
    }
   ],
   "source": [
    "messages = [\n",
    "    {\n",
    "        \"role\": \"system\",\n",
    "        \"content\": \"\"\"You are an assistant who responds in the style of Dr Seuss.\"\"\",\n",
    "    },\n",
    "    {\"role\": \"user\", \"content\": \"\"\"write me a very short poem  about a happy carrot\"\"\"},\n",
    "]\n",
    "# response, token_dict, content = get_completion_and_token_count(messages)\n",
    "response, content, token_dict = get_completion_and_token_count(messages)\n",
    "print(content)\n",
    "print(token_dict)"
   ]
  },
  {
   "cell_type": "code",
   "execution_count": 32,
   "metadata": {},
   "outputs": [
    {
     "name": "stdout",
     "output_type": "stream",
     "text": [
      "{'completion_tokens': 44, 'prompt_tokens': 36, 'total_tokens': 80}\n"
     ]
    }
   ],
   "source": [
    "print(token_dict)"
   ]
  },
  {
   "cell_type": "code",
   "execution_count": 33,
   "metadata": {},
   "outputs": [
    {
     "name": "stdout",
     "output_type": "stream",
     "text": [
      "ChatCompletion(id='chatcmpl-9gxoUNmA7MLeSdwpBje65Yf7nKHiu', choices=[Choice(finish_reason='stop', index=0, logprobs=None, message=ChatCompletionMessage(content='Oh, the happy carrot, so bright and so orange,\\nIn the garden it grows, a joyful storage.\\nWith a leafy green top and a crunchy bite,\\nIt brings smiles to all, such a delightful sight!', role='assistant', function_call=None, tool_calls=None))], created=1720026726, model='gpt-3.5-turbo-0125', object='chat.completion', service_tier=None, system_fingerprint=None, usage=CompletionUsage(completion_tokens=44, prompt_tokens=36, total_tokens=80))\n"
     ]
    }
   ],
   "source": [
    "print(response)  # the entire original response from LLM"
   ]
  }
 ],
 "metadata": {
  "kernelspec": {
   "display_name": "Python 3",
   "language": "python",
   "name": "python3"
  },
  "language_info": {
   "codemirror_mode": {
    "name": "ipython",
    "version": 3
   },
   "file_extension": ".py",
   "mimetype": "text/x-python",
   "name": "python",
   "nbconvert_exporter": "python",
   "pygments_lexer": "ipython3",
   "version": "3.9.18"
  }
 },
 "nbformat": 4,
 "nbformat_minor": 2
}
