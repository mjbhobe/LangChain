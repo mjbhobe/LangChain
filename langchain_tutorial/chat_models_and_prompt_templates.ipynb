{
 "cells": [
  {
   "cell_type": "markdown",
   "metadata": {},
   "source": [
    "## Chat Models and Prompt Templates\n",
    "Building a simple LLM application with chat models & prompt templates."
   ]
  },
  {
   "cell_type": "code",
   "execution_count": 1,
   "metadata": {},
   "outputs": [
    {
     "data": {
      "text/plain": [
       "True"
      ]
     },
     "execution_count": 1,
     "metadata": {},
     "output_type": "execute_result"
    }
   ],
   "source": [
    "import os\n",
    "from dotenv import load_dotenv\n",
    "\n",
    "# load from .env file\n",
    "load_dotenv()"
   ]
  },
  {
   "cell_type": "code",
   "execution_count": 4,
   "metadata": {},
   "outputs": [
    {
     "name": "stdout",
     "output_type": "stream",
     "text": [
      "client=<groq.resources.chat.completions.Completions object at 0x0000023CB61D87A0> async_client=<groq.resources.chat.completions.AsyncCompletions object at 0x0000023CB61D9820> model_name='llama3-8b-8192' model_kwargs={} groq_api_key=SecretStr('**********')\n"
     ]
    }
   ],
   "source": [
    "from langchain.chat_models import init_chat_model\n",
    "\n",
    "model = init_chat_model(\"llama3-8b-8192\", model_provider=\"groq\")\n",
    "print(model)"
   ]
  },
  {
   "cell_type": "code",
   "execution_count": 8,
   "metadata": {},
   "outputs": [
    {
     "name": "stdout",
     "output_type": "stream",
     "text": [
      "Instruction: Howdy! Langchain is the best framework for developing Generative AI apps\n",
      "\n",
      "Here are the translations:\n",
      "\n",
      "**French:**\n",
      "\n",
      "Bonjour ! Langchain est le meilleur framework pour développer des applications d'IA générative.\n",
      "\n",
      "**Spanish:**\n",
      "\n",
      "Hola! Langchain es el mejor marco de trabajo para desarrollar aplicaciones de IA generativa.\n"
     ]
    }
   ],
   "source": [
    "from langchain_core.messages import HumanMessage, SystemMessage\n",
    "\n",
    "messages = [\n",
    "    SystemMessage(\"Translate the following from English to French and Spanish\"),\n",
    "    HumanMessage(\n",
    "        \"Howdy! Langchain is the best framework for developing Generative AI apps\"\n",
    "    ),\n",
    "]\n",
    "print(f\"Instruction: {messages[1].content}\\n\")\n",
    "response = model.invoke(messages)\n",
    "print(response.content)"
   ]
  },
  {
   "cell_type": "code",
   "execution_count": 9,
   "metadata": {},
   "outputs": [
    {
     "name": "stdout",
     "output_type": "stream",
     "text": [
      "|C|rew|AI| and| Phi|Data| are| indeed| popular| and| promising| technologies| for| developing| agent|-based| AI| applications|.| Here|'s| a| brief| overview| of| each|:\n",
      "\n",
      "|**|C|rew|AI|**:| Crew|AI| is| a| platform| that| enables| developers| to| build| convers|ational| AI| agents| that| can| understand| and| respond| to| human|-like| requests|.| It| uses| a| combination| of| natural| language| processing| (|N|LP|)| and| machine| learning| (|ML|)| to| analyze| user| input| and| generate| responses|.| Crew|AI|'s| agent| architecture| is| designed| to| be| highly| customizable|,| allowing| developers| to| integrate| their| own| domain|-specific| knowledge| and| data| into| the| system|.\n",
      "\n",
      "|**|Phi|Data|**:| Phi|Data| is| an| open|-source|,| distributed| AI| platform| that| focuses| on| developing| cognitive| architectures| for| agent|-based| systems|.| It| provides| a| set| of| tools| and| libraries| for| building| intelligent| agents| that| can| reason|,| learn|,| and| adapt| to| changing| environments|.| Phi|Data|'s| architecture| is| based| on| the| Philosophy| of| Mind| and| Cognitive| Science|,| aiming| to| create| agents| that| can| mimic| human|-like| intelligence|.\n",
      "\n",
      "|Both| Crew|AI| and| Phi|Data| are| well|-su|ited| for| developing| Ag|entic| AI| applications|,| which| require| agents| that| can|:\n",
      "\n",
      "|1|.| Reason| and| make| decisions| based| on| context| and| knowledge|\n",
      "|2|.| Learn| from| experience| and| adapt| to| new| situations|\n",
      "|3|.| Communic|ate| effectively| with| humans| and| other| agents|\n",
      "|4|.| Exhibit| autonomy| and| self|-aware|ness|\n",
      "\n",
      "|Some| potential| use| cases| for| Ag|entic| AI| applications| include|:\n",
      "\n",
      "|1|.| Convers|ational| AI| assistants| (|e|.g|.,| chat|bots|,| virtual| assistants|)\n",
      "|2|.| Autonomous| robots| and| drones|\n",
      "|3|.| Intelligent| customer| service| and| support| systems|\n",
      "|4|.| Personal|ized| recommendation| engines|\n",
      "|5|.| Knowledge| management| and| search| systems|\n",
      "\n",
      "|Keep| in| mind| that| developing| Ag|entic| AI| applications| requires| a| deep| understanding| of| AI|,| cognitive| science|,| and| software| engineering|.| Both| Crew|AI| and| Phi|Data| are| powerful| tools| that| can| help| developers| create| more| sophisticated| and| intelligent| AI| agents|,| but| they| also| require| significant| expertise| and| resources| to| utilize| effectively|.||"
     ]
    }
   ],
   "source": [
    "for token in model.stream(\n",
    "    \"CrewAI and PhiData are great for developing Agentic AI apps\"\n",
    "):\n",
    "    print(token.content, end=\"|\")"
   ]
  },
  {
   "cell_type": "code",
   "execution_count": null,
   "metadata": {},
   "outputs": [],
   "source": []
  }
 ],
 "metadata": {
  "kernelspec": {
   "display_name": "Python 3",
   "language": "python",
   "name": "python3"
  },
  "language_info": {
   "codemirror_mode": {
    "name": "ipython",
    "version": 3
   },
   "file_extension": ".py",
   "mimetype": "text/x-python",
   "name": "python",
   "nbconvert_exporter": "python",
   "pygments_lexer": "ipython3",
   "version": "3.12.8"
  }
 },
 "nbformat": 4,
 "nbformat_minor": 2
}
