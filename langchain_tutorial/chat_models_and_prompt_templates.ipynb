{
 "cells": [
  {
   "cell_type": "markdown",
   "metadata": {},
   "source": [
    "## Chat Models and Prompt Templates\n",
    "Building a simple LLM application with chat models & prompt templates."
   ]
  },
  {
   "cell_type": "code",
   "execution_count": 3,
   "metadata": {},
   "outputs": [],
   "source": [
    "import os\n",
    "from dotenv import load_dotenv\n",
    "from rich.console import Console\n",
    "from rich.markdown import Markdown\n",
    "\n",
    "# load from .env file\n",
    "load_dotenv(override=True)\n",
    "console = Console()"
   ]
  },
  {
   "cell_type": "code",
   "execution_count": 4,
   "metadata": {},
   "outputs": [
    {
     "name": "stdout",
     "output_type": "stream",
     "text": [
      "client=<groq.resources.chat.completions.Completions object at 0x0000022A2CA98E80> async_client=<groq.resources.chat.completions.AsyncCompletions object at 0x0000022A2B3AF4C0> model_name='llama3-8b-8192' model_kwargs={} groq_api_key=SecretStr('**********')\n"
     ]
    }
   ],
   "source": [
    "from langchain.chat_models import init_chat_model\n",
    "\n",
    "# we'll be using the Llama3 model hosted on Groq\n",
    "model = init_chat_model(\"llama3-8b-8192\", model_provider=\"groq\")\n",
    "print(model)"
   ]
  },
  {
   "cell_type": "code",
   "execution_count": 7,
   "metadata": {},
   "outputs": [
    {
     "name": "stdout",
     "output_type": "stream",
     "text": [
      "Instruction: Howdy buddy! Welcome to Langchain, the best framework for developing Gen AI apps\n",
      "\n"
     ]
    },
    {
     "data": {
      "text/html": [
       "<pre style=\"white-space:pre;overflow-x:auto;line-height:normal;font-family:Menlo,'DejaVu Sans Mono',consolas,'Courier New',monospace\"><span style=\"font-weight: bold\">Response:</span>                                                                                                          \n",
       "\n",
       "Here are the translations:                                                                                         \n",
       "\n",
       "<span style=\"font-weight: bold\">English:</span> Howdy buddy! Welcome to Langchain, the best framework for developing Gen AI apps                          \n",
       "\n",
       "<span style=\"font-weight: bold\">French:</span> Salut copain ! Bienvenue sur Langchain, le meilleur framework pour développer des apps de IA de génération \n",
       "\n",
       "<span style=\"font-weight: bold\">Spanish:</span> ¡Hola amigo! ¡Bienvenido a Langchain, el mejor marco para desarrollar apps de IA generativa!              \n",
       "</pre>\n"
      ],
      "text/plain": [
       "\u001b[1mResponse:\u001b[0m                                                                                                          \n",
       "\n",
       "Here are the translations:                                                                                         \n",
       "\n",
       "\u001b[1mEnglish:\u001b[0m Howdy buddy! Welcome to Langchain, the best framework for developing Gen AI apps                          \n",
       "\n",
       "\u001b[1mFrench:\u001b[0m Salut copain ! Bienvenue sur Langchain, le meilleur framework pour développer des apps de IA de génération \n",
       "\n",
       "\u001b[1mSpanish:\u001b[0m ¡Hola amigo! ¡Bienvenido a Langchain, el mejor marco para desarrollar apps de IA generativa!              \n"
      ]
     },
     "metadata": {},
     "output_type": "display_data"
    }
   ],
   "source": [
    "from langchain_core.messages import HumanMessage, SystemMessage\n",
    "\n",
    "messages = [\n",
    "    SystemMessage(\"Translate the following from English to French and Spanish\"),\n",
    "    HumanMessage(\n",
    "        \"Howdy buddy! Welcome to Langchain, the best framework for developing Gen AI apps\"\n",
    "    ),\n",
    "]\n",
    "print(f\"Instruction: {messages[1].content}\\n\")\n",
    "response = model.invoke(messages)\n",
    "# print(response.content)\n",
    "console.print(Markdown(f\"**Response:**\\n\\n{response.content}\"))"
   ]
  },
  {
   "cell_type": "code",
   "execution_count": 8,
   "metadata": {},
   "outputs": [
    {
     "name": "stdout",
     "output_type": "stream",
     "text": [
      "|I| think| there| may| be| some| confusion| here|.\n",
      "\n",
      "|C|rew|AI| and| Phi|Data| are| not| typically| known| for| developing| Ag|entic| AI| apps|.| In| fact|,| I| couldn|'t| find| any| information| on| these| companies| or| products| being| specifically| designed| for| developing| Ag|entic| AI| apps|.\n",
      "\n",
      "|Ag|entic| AI| refers| to| a| type| of| artificial| intelligence| that| is| designed| to| mimic| human|-like| intelligence|,| autonomy|,| and| self|-aware|ness|.| It|'s| a| relatively| new| and| emerging| field| in| AI| research|.\n",
      "\n",
      "|C|rew|AI| and| Phi|Data| are| likely| companies| or| products| that| specialize| in| other| areas| of| AI| development|,| such| as| natural| language| processing|,| computer| vision|,| or| data| analytics|.| If| you| could| provide| more| context| or| information| about| what| you|'re| looking| for|,| I|'d| be| happy| to| help| you| find| the| right| tools| or| resources| for| developing| Ag|entic| AI| apps|.||"
     ]
    }
   ],
   "source": [
    "for token in model.stream(\n",
    "    \"CrewAI and PhiData are great for developing Agentic AI apps\"\n",
    "):\n",
    "    print(token.content, end=\"|\")"
   ]
  },
  {
   "cell_type": "code",
   "execution_count": null,
   "metadata": {},
   "outputs": [],
   "source": []
  }
 ],
 "metadata": {
  "kernelspec": {
   "display_name": "Python 3",
   "language": "python",
   "name": "python3"
  },
  "language_info": {
   "codemirror_mode": {
    "name": "ipython",
    "version": 3
   },
   "file_extension": ".py",
   "mimetype": "text/x-python",
   "name": "python",
   "nbconvert_exporter": "python",
   "pygments_lexer": "ipython3",
   "version": "3.9.20"
  }
 },
 "nbformat": 4,
 "nbformat_minor": 2
}
